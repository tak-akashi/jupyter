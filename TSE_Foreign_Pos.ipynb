{
 "cells": [
  {
   "cell_type": "code",
   "execution_count": 1,
   "metadata": {},
   "outputs": [],
   "source": [
    "import requests\n",
    "from bs4 import BeautifulSoup"
   ]
  },
  {
   "cell_type": "code",
   "execution_count": 2,
   "metadata": {},
   "outputs": [],
   "source": [
    "url = 'http://www.jpx.co.jp/markets/statistics-equities/investor-type/00-00-archives-00.html'\n",
    "url_last = 'http://www.jpx.co.jp/markets/statistics-equities/investor-type/00-00-archives-01.html'"
   ]
  },
  {
   "cell_type": "code",
   "execution_count": 3,
   "metadata": {},
   "outputs": [],
   "source": [
    "rq = requests.get(url)\n",
    "rq_last = requests.get(url_last)"
   ]
  },
  {
   "cell_type": "code",
   "execution_count": 4,
   "metadata": {},
   "outputs": [
    {
     "data": {
      "text/plain": [
       "'ISO-8859-1'"
      ]
     },
     "execution_count": 4,
     "metadata": {},
     "output_type": "execute_result"
    }
   ],
   "source": [
    "rq.encoding"
   ]
  },
  {
   "cell_type": "code",
   "execution_count": 5,
   "metadata": {},
   "outputs": [],
   "source": [
    "rq.encoding = rq.apparent_encoding\n",
    "rq_last.encoding = rq_last.apparent_encoding"
   ]
  },
  {
   "cell_type": "code",
   "execution_count": 6,
   "metadata": {},
   "outputs": [],
   "source": [
    "soup = BeautifulSoup(rq.text, 'html.parser')\n",
    "soup_last = BeautifulSoup(rq_last.text, 'html.parser')"
   ]
  },
  {
   "cell_type": "code",
   "execution_count": 7,
   "metadata": {},
   "outputs": [],
   "source": [
    "a_tags = soup.find_all('a')\n",
    "a_tags_last = soup_last.find_all('a')"
   ]
  },
  {
   "cell_type": "code",
   "execution_count": 8,
   "metadata": {},
   "outputs": [
    {
     "data": {
      "text/plain": [
       "bs4.element.ResultSet"
      ]
     },
     "execution_count": 8,
     "metadata": {},
     "output_type": "execute_result"
    }
   ],
   "source": [
    "type(a_tags)"
   ]
  },
  {
   "cell_type": "code",
   "execution_count": 9,
   "metadata": {},
   "outputs": [
    {
     "data": {
      "text/plain": [
       "<a href=\"/learning/tour/index.html\">見学</a>"
      ]
     },
     "execution_count": 9,
     "metadata": {},
     "output_type": "execute_result"
    }
   ],
   "source": [
    "a_tags[1]"
   ]
  },
  {
   "cell_type": "code",
   "execution_count": 10,
   "metadata": {
    "scrolled": true
   },
   "outputs": [
    {
     "data": {
      "text/plain": [
       "'/learning/tour/index.html'"
      ]
     },
     "execution_count": 10,
     "metadata": {},
     "output_type": "execute_result"
    }
   ],
   "source": [
    "a_tags[1].get('href')"
   ]
  },
  {
   "cell_type": "code",
   "execution_count": 11,
   "metadata": {},
   "outputs": [],
   "source": [
    "list_xls = []\n",
    "for a_tag in a_tags:\n",
    "    if ('xls' in a_tag.get('href')) and ('val' in a_tag.get('href')):\n",
    "        list_xls.append(a_tag.get('href'))\n",
    "for a_tag in a_tags_last:\n",
    "    if ('xls' in a_tag.get('href')) and ('val' in a_tag.get('href')):\n",
    "        list_xls.append(a_tag.get('href'))"
   ]
  },
  {
   "cell_type": "code",
   "execution_count": 12,
   "metadata": {},
   "outputs": [
    {
     "data": {
      "text/plain": [
       "['/markets/statistics-equities/investor-type/nlsgeu0000034q54-att/stock_val_1_180504.xls',\n",
       " '/markets/statistics-equities/investor-type/nlsgeu0000034d43-att/stock_val_1_180503.xls',\n",
       " '/markets/statistics-equities/investor-type/nlsgeu0000033zam-att/stock_val_1_180502.xls',\n",
       " '/markets/statistics-equities/investor-type/nlsgeu0000033ltn-att/stock_val_1_180501.xls',\n",
       " '/markets/statistics-equities/investor-type/nlsgeu0000033g4z-att/stock_val_1_180404.xls',\n",
       " '/markets/statistics-equities/investor-type/nlsgeu000003327q-att/stock_val_1_180403.xls',\n",
       " '/markets/statistics-equities/investor-type/nlsgeu0000032b8c-att/stock_val_1_180402.xls',\n",
       " '/markets/statistics-equities/investor-type/nlsgeu0000032ara-att/stock_val_1_180401.xls',\n",
       " '/markets/statistics-equities/investor-type/nlsgeu0000031wxo-att/stock_val_1_180304.xls',\n",
       " '/markets/statistics-equities/investor-type/nlsgeu0000031g2w-att/stock_val_1_180303.xls',\n",
       " '/markets/statistics-equities/investor-type/nlsgeu0000030gfq-att/stock_val_1_180302.xls',\n",
       " '/markets/statistics-equities/investor-type/nlsgeu000002zppg-att/stock_val_1_180301.xls',\n",
       " '/markets/statistics-equities/investor-type/nlsgeu000002zbh8-att/stock_val_1_180204.xls',\n",
       " '/markets/statistics-equities/investor-type/nlsgeu000002ywnd-att/stock_val_1_180203.xls',\n",
       " '/markets/statistics-equities/investor-type/nlsgeu000002yga7-att/stock_val_1_180202.xls',\n",
       " '/markets/statistics-equities/investor-type/nlsgeu000002y0rh-att/stock_val_1_180201.xls',\n",
       " '/markets/statistics-equities/investor-type/nlsgeu000002xim2-att/stock_val_1_180105.xls',\n",
       " '/markets/statistics-equities/investor-type/nlsgeu000002wztb-att/stock_val_1_180104.xls',\n",
       " '/markets/statistics-equities/investor-type/nlsgeu000002wjlg-att/stock_val_1_180103.xls',\n",
       " '/markets/statistics-equities/investor-type/nlsgeu000002w4se-att/stock_val_1_180102.xls',\n",
       " '/markets/statistics-equities/investor-type/nlsgeu000002vt4c-att/stock_val_1_180101.xls',\n",
       " '/markets/statistics-equities/investor-type/nlsgeu000002vlvi-att/stock_val_1_171204.xls',\n",
       " '/markets/statistics-equities/investor-type/nlsgeu000002v9ho-att/stock_val_1_171203.xls',\n",
       " '/markets/statistics-equities/investor-type/nlsgeu000002ussu-att/stock_val_1_171202.xls',\n",
       " '/markets/statistics-equities/investor-type/nlsgeu000002u6p9-att/stock_val_1_171201.xls',\n",
       " '/markets/statistics-equities/investor-type/nlsgeu000002tq4e-att/stock_val_1_171105.xls',\n",
       " '/markets/statistics-equities/investor-type/nlsgeu000002sw5p-att/stock_val_1_171104.xls',\n",
       " '/markets/statistics-equities/investor-type/nlsgeu000002sh9r-att/stock_val_1_171103.xls',\n",
       " '/markets/statistics-equities/investor-type/nlsgeu000002s3xx-att/stock_val_1_171102.xls',\n",
       " '/markets/statistics-equities/investor-type/nlsgeu000002rnac-att/stock_val_1_171101.xls',\n",
       " '/markets/statistics-equities/investor-type/nlsgeu000002r951-att/stock_val_1_171004.xls',\n",
       " '/markets/statistics-equities/investor-type/nlsgeu000002qxtj-att/stock_val_1_171003.xls',\n",
       " '/markets/statistics-equities/investor-type/nlsgeu000002ql1q-att/stock_val_1_171002.xls',\n",
       " '/markets/statistics-equities/investor-type/nlsgeu000002qczb-att/stock_val_1_171001.xls',\n",
       " '/markets/statistics-equities/investor-type/nlsgeu000002pl51-att/stock_val_1_170904.xls',\n",
       " '/markets/statistics-equities/investor-type/nlsgeu000002p28w-att/stock_val_1_170903.xls',\n",
       " '/markets/statistics-equities/investor-type/nlsgeu000002onj0-att/stock_val_1_170902.xls',\n",
       " '/markets/statistics-equities/investor-type/nlsgeu000002o8sh-att/stock_val_1_170901.xls',\n",
       " '/markets/statistics-equities/investor-type/nlsgeu000002nvmr-att/stock_val_1_170805.xls',\n",
       " '/markets/statistics-equities/investor-type/nlsgeu000002nf5m-att/stock_val_1_170804.xls',\n",
       " '/markets/statistics-equities/investor-type/nlsgeu000002mrai-att/stock_val_1_170803.xls',\n",
       " '/markets/statistics-equities/investor-type/nlsgeu000002m7pp-att/stock_val_1_170802.xls',\n",
       " '/markets/statistics-equities/investor-type/nlsgeu000002lg9k-att/stock_val_1_170801.xls',\n",
       " '/markets/statistics-equities/investor-type/nlsgeu000002l2w7-att/stock_val_1_170704.xls',\n",
       " '/markets/statistics-equities/investor-type/nlsgeu000002kofk-att/stock_val_1_170703.xls',\n",
       " '/markets/statistics-equities/investor-type/nlsgeu000002kdfx-att/stock_val_1_170702.xls',\n",
       " '/markets/statistics-equities/investor-type/nlsgeu000002jznk-att/stock_val_1_170701.xls',\n",
       " '/markets/statistics-equities/investor-type/nlsgeu000002jkhm-att/stock_val_1_170604.xls',\n",
       " '/markets/statistics-equities/investor-type/nlsgeu000002j6ls-att/stock_val_1_170603.xls',\n",
       " '/markets/statistics-equities/investor-type/nlsgeu000002isdt-att/stock_val_1_170602.xls',\n",
       " '/markets/statistics-equities/investor-type/nlsgeu000002idcc-att/stock_val_1_170601.xls',\n",
       " '/markets/statistics-equities/investor-type/nlsgeu000002hwu0-att/stock_val_1_170505.xls',\n",
       " '/markets/statistics-equities/investor-type/nlsgeu000002hih8-att/stock_val_1_170504.xls',\n",
       " '/markets/statistics-equities/investor-type/nlsgeu000002h6u4-att/stock_val_1_170503.xls',\n",
       " '/markets/statistics-equities/investor-type/nlsgeu000002gqst-att/stock_val_1_170502.xls',\n",
       " '/markets/statistics-equities/investor-type/nlsgeu000002geha-att/stock_val_1_170501.xls',\n",
       " '/markets/statistics-equities/investor-type/nlsgeu000002g9i6-att/stock_val_1_170404.xls',\n",
       " '/markets/statistics-equities/investor-type/nlsgeu000002feub-att/stock_val_1_170403.xls',\n",
       " '/markets/statistics-equities/investor-type/nlsgeu000002f2fw-att/stock_val_1_170402.xls',\n",
       " '/markets/statistics-equities/investor-type/nlsgeu000002erho-att/stock_val_1_170401.xls',\n",
       " '/markets/statistics-equities/investor-type/nlsgeu000002e37r-att/stock_val_1_170305.xls',\n",
       " '/markets/statistics-equities/investor-type/nlsgeu000002dkhp-att/stock_val_1_170304.xls',\n",
       " '/markets/statistics-equities/investor-type/nlsgeu000002d7oq-att/stock_val_1_170303.xls',\n",
       " '/markets/statistics-equities/investor-type/nlsgeu000002bix5-att/stock_val_1_170302.xls',\n",
       " '/markets/statistics-equities/investor-type/nlsgeu000002b38j-att/stock_val_1_170301.xls',\n",
       " '/markets/statistics-equities/investor-type/nlsgeu000002ao39-att/stock_val_1_170204.xls',\n",
       " '/markets/statistics-equities/investor-type/nlsgeu000002a6wt-att/stock_val_1_170203.xls',\n",
       " '/markets/statistics-equities/investor-type/nlsgeu0000029o58-att/stock_val_1_170202.xls',\n",
       " '/markets/statistics-equities/investor-type/nlsgeu000002923m-att/stock_val_1_170201.xls',\n",
       " '/markets/statistics-equities/investor-type/nlsgeu0000028n9n-att/stock_val_1_170104.xls',\n",
       " '/markets/statistics-equities/investor-type/nlsgeu00000287oc-att/stock_val_1_170103.xls',\n",
       " '/markets/statistics-equities/investor-type/nlsgeu0000027u3h-att/stock_val_1_170102.xls',\n",
       " '/markets/statistics-equities/investor-type/nlsgeu0000023yfn-att/stock_val_1_170101.xls']"
      ]
     },
     "execution_count": 12,
     "metadata": {},
     "output_type": "execute_result"
    }
   ],
   "source": [
    "list_xls"
   ]
  },
  {
   "cell_type": "code",
   "execution_count": 13,
   "metadata": {},
   "outputs": [],
   "source": [
    "base_url = 'http://www.jpx.co.jp'"
   ]
  },
  {
   "cell_type": "code",
   "execution_count": 14,
   "metadata": {},
   "outputs": [],
   "source": [
    "import os\n",
    "import urllib.request"
   ]
  },
  {
   "cell_type": "code",
   "execution_count": 15,
   "metadata": {},
   "outputs": [],
   "source": [
    "for i, x in enumerate(list_xls):\n",
    "    url = base_url + x\n",
    "    urllib.request.urlretrieve(url,'temp/temp'+ str(i) + '.xls')"
   ]
  },
  {
   "cell_type": "code",
   "execution_count": 16,
   "metadata": {},
   "outputs": [],
   "source": [
    "import xlrd\n",
    "from datetime import datetime"
   ]
  },
  {
   "cell_type": "code",
   "execution_count": 17,
   "metadata": {},
   "outputs": [],
   "source": [
    "foreign_pos = []\n",
    "for i in range(len(list_xls)):\n",
    "    book = xlrd.open_workbook('temp/temp' + str(i) + '.xls')\n",
    "    sheet = book.sheet_by_name('Tokyo & Nagoya')\n",
    "    dt_org = sheet.cell_value(3, 0)\n",
    "    dt_ = dt_org.split('年')[0] + '/' + dt_org.split(' ')[-2]\n",
    "    dt = datetime.strptime(dt_, '%Y/%m/%d')\n",
    "    foreign_pos.append([dt,\n",
    "                        int(''.join((sheet.cell_value(29,10) \n",
    "                                     + sheet.cell_value(30,10)).split(',')))])"
   ]
  },
  {
   "cell_type": "code",
   "execution_count": 72,
   "metadata": {},
   "outputs": [],
   "source": [
    "foreign_pos"
   ]
  },
  {
   "cell_type": "code",
   "execution_count": 73,
   "metadata": {},
   "outputs": [],
   "source": [
    "x = [row[0] for row in foreign_pos]\n",
    "y = [row[1] for row in foreign_pos]"
   ]
  },
  {
   "cell_type": "code",
   "execution_count": 74,
   "metadata": {},
   "outputs": [],
   "source": [
    "import matplotlib.pyplot as plt\n",
    "import matplotlib.dates as mdates\n",
    "%matplotlib inline"
   ]
  },
  {
   "cell_type": "code",
   "execution_count": 75,
   "metadata": {},
   "outputs": [],
   "source": [
    "plt.style.use('ggplot')"
   ]
  },
  {
   "cell_type": "code",
   "execution_count": 76,
   "metadata": {
    "scrolled": true
   },
   "outputs": [
    {
     "data": {
      "image/png": "[encoded data removed]",
      "text/plain": [
       "<matplotlib.figure.Figure at 0x125593f28>"
      ]
     },
     "metadata": {},
     "output_type": "display_data"
    }
   ],
   "source": [
    "fig = plt.figure(figsize=(12,6))\n",
    "ax = fig.add_subplot(111)\n",
    "ax.bar(x, y, width = 4, color='blue')\n",
    "plt.title('株式売買動向（海外投資家）as of ' + foreign_pos[0][0].strftime('%Y%m%d'))\n",
    "ax.xaxis.set_major_formatter(mdates.DateFormatter('%y-%m'))\n",
    "fig.autofmt_xdate()"
   ]
  },
  {
   "cell_type": "code",
   "execution_count": null,
   "metadata": {},
   "outputs": [],
   "source": []
  }
 ],
 "metadata": {
  "kernelspec": {
   "display_name": "Python 3",
   "language": "python",
   "name": "python3"
  },
  "language_info": {
   "codemirror_mode": {
    "name": "ipython",
    "version": 3
   },
   "file_extension": ".py",
   "mimetype": "text/x-python",
   "name": "python",
   "nbconvert_exporter": "python",
   "pygments_lexer": "ipython3",
   "version": "3.6.4"
  }
 },
 "nbformat": 4,
 "nbformat_minor": 2
}
